{
 "cells": [
  {
   "cell_type": "code",
   "execution_count": 1,
   "metadata": {},
   "outputs": [],
   "source": [
    "import numpy as np\n",
    "a = np.random.randn(5)\n"
   ]
  },
  {
   "cell_type": "code",
   "execution_count": 5,
   "metadata": {},
   "outputs": [
    {
     "name": "stdout",
     "output_type": "stream",
     "text": [
      "[-0.70401723 -0.01048056  2.94683345 -0.18872117 -0.3431168 ]\n",
      "(5,)\n",
      "[-0.70401723 -0.01048056  2.94683345 -0.18872117 -0.3431168 ]\n",
      "9.332922280404036\n"
     ]
    }
   ],
   "source": [
    "print(a)\n",
    "print(a.shape)\n",
    "print(a.T)\n",
    "print(np.dot(a,a.T))"
   ]
  },
  {
   "cell_type": "code",
   "execution_count": 6,
   "metadata": {},
   "outputs": [],
   "source": [
    "b = np.random.randn(5,1)"
   ]
  },
  {
   "cell_type": "code",
   "execution_count": 8,
   "metadata": {},
   "outputs": [
    {
     "name": "stdout",
     "output_type": "stream",
     "text": [
      "[[ 0.83979649]\n",
      " [ 1.73482233]\n",
      " [-1.16178184]\n",
      " [ 0.64015376]\n",
      " [ 1.48767993]]\n",
      "(5, 1)\n",
      "[[ 0.83979649  1.73482233 -1.16178184  0.64015376  1.48767993]]\n",
      "[[ 0.70525814  1.4568977  -0.97566031  0.53759888  1.24934839]\n",
      " [ 1.4568977   3.00960851 -2.01548508  1.11055304  2.58086036]\n",
      " [-0.97566031 -2.01548508  1.34973704 -0.74371902 -1.72835953]\n",
      " [ 0.53759888  1.11055304 -0.74371902  0.40979684  0.95234391]\n",
      " [ 1.24934839  2.58086036 -1.72835953  0.95234391  2.21319158]]\n"
     ]
    }
   ],
   "source": [
    "print(b)\n",
    "print(b.shape)\n",
    "print(b.T)\n",
    "print(np.dot(b,b.T))"
   ]
  },
  {
   "cell_type": "code",
   "execution_count": null,
   "metadata": {},
   "outputs": [],
   "source": []
  }
 ],
 "metadata": {
  "kernelspec": {
   "display_name": "Python 3",
   "language": "python",
   "name": "python3"
  },
  "language_info": {
   "codemirror_mode": {
    "name": "ipython",
    "version": 3
   },
   "file_extension": ".py",
   "mimetype": "text/x-python",
   "name": "python",
   "nbconvert_exporter": "python",
   "pygments_lexer": "ipython3",
   "version": "3.6.5"
  }
 },
 "nbformat": 4,
 "nbformat_minor": 2
}
